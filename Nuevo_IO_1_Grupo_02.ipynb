{
  "nbformat": 4,
  "nbformat_minor": 0,
  "metadata": {
    "colab": {
      "provenance": [],
      "authorship_tag": "ABX9TyM1LYMQfgqb/FaF2Q86LDPh",
      "include_colab_link": true
    },
    "kernelspec": {
      "name": "python3",
      "display_name": "Python 3"
    },
    "language_info": {
      "name": "python"
    }
  },
  "cells": [
    {
      "cell_type": "markdown",
      "metadata": {
        "id": "view-in-github",
        "colab_type": "text"
      },
      "source": [
        "<a href=\"https://colab.research.google.com/github/mariapaz123456/Nuevo-IO-1-Grupo-02/blob/main/Nuevo_IO_1_Grupo_02.ipynb\" target=\"_parent\"><img src=\"https://colab.research.google.com/assets/colab-badge.svg\" alt=\"Open In Colab\"/></a>"
      ]
    },
    {
      "cell_type": "markdown",
      "source": [
        "#Esto es un tìtulo\n"
      ],
      "metadata": {
        "id": "EaXcPHR6VBxC"
      }
    },
    {
      "cell_type": "markdown",
      "source": [
        "#Esto es un subtitulo"
      ],
      "metadata": {
        "id": "xghayyqNVhlD"
      }
    },
    {
      "cell_type": "markdown",
      "source": [
        "#Esto es otro subtitulo"
      ],
      "metadata": {
        "id": "spPDLV3UVpKa"
      }
    },
    {
      "cell_type": "code",
      "execution_count": 1,
      "metadata": {
        "colab": {
          "base_uri": "https://localhost:8080/"
        },
        "id": "cmqUHFjiUT2j",
        "outputId": "4d6dfeca-838f-4a73-b4c6-a12a9004024b"
      },
      "outputs": [
        {
          "output_type": "stream",
          "name": "stdout",
          "text": [
            "Hola, mundo\n"
          ]
        }
      ],
      "source": [
        "print(\"Hola, mundo\")\n",
        "\n"
      ]
    },
    {
      "cell_type": "code",
      "source": [],
      "metadata": {
        "id": "2M0_zPCtVA67"
      },
      "execution_count": null,
      "outputs": []
    }
  ]
}